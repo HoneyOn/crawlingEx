{
 "cells": [
  {
   "cell_type": "code",
   "execution_count": 1,
   "metadata": {},
   "outputs": [
    {
     "name": "stdout",
     "output_type": "stream",
     "text": [
      "   iPhone_XS  Galaxy_S10\n",
      "1      95933      233176\n",
      "2     552534     1833393\n",
      "3     206712      374885\n",
      "4     164379      228595\n",
      "5      27834      127374\n",
      "AxesSubplot(0.125,0.125;0.775x0.755)\n"
     ]
    },
    {
     "data": {
      "image/png": "[encoded data removed]",
      "text/plain": [
       "<Figure size 432x288 with 1 Axes>"
      ]
     },
     "metadata": {
      "needs_background": "light"
     },
     "output_type": "display_data"
    }
   ],
   "source": [
    "from urllib.request import urlopen\n",
    "from bs4 import BeautifulSoup\n",
    "import pandas as pd\n",
    "import numpy as np\n",
    "import matplotlib.pyplot as plt\n",
    "\n",
    "class Research:\n",
    "    phone1_release_date=0\n",
    "    phone2_release_date=0\n",
    "    phone1_name=''\n",
    "    phone2_name=''\n",
    "    phone1_searchkeyword=''\n",
    "    phone2_searchkeyword=''\n",
    "    def __init__(self,_phone1_release_date,_phone2_release_date,_phone1_name,_phone2_name,_phone1_searchkeyword,_phone2_searchkeyword):\n",
    "        self.phone1_release_date=_phone1_release_date\n",
    "        self.phone2_release_date=_phone2_release_date\n",
    "        self.phone1_name=_phone1_name\n",
    "        self.phone2_name=_phone2_name\n",
    "        self.phone1_searchkeyword=_phone1_searchkeyword\n",
    "        self.phone2_searchkeyword=_phone2_searchkeyword\n",
    "    def visualization(self):\n",
    "       \n",
    "        i=0\n",
    "        data=pd.DataFrame(0,columns=[self.phone1_name,self.phone2_name],index=['1','2','3','4','5'])\n",
    "        aa=0\n",
    "        dateafter1=self.phone1_release_date+4\n",
    "        dateafter2=self.phone2_release_date+4\n",
    "        while (self.phone1_release_date <=dateafter1 ) :\n",
    "\n",
    "                link = 'https://m.news.naver.com/rankingList.nhn?sid1=105&date='\n",
    "                s1=link+str(self.phone1_release_date)\n",
    "                html=urlopen(s1)\n",
    "                soup=BeautifulSoup(html,\"html.parser\")\n",
    "                ul=soup.find(\"ul\",{\"class\":\"commonlist\"})\n",
    "                lists=ul.findAll(\"li\")\n",
    "                i=0\n",
    "                \n",
    "                sum=0\n",
    "\n",
    "                while i<=30:\n",
    "                    link=soup.select(\"#ct > div.ranking_news > ul > li:nth-child(\"+str(i)+\") > a\")\n",
    "\n",
    "                    for li in link:              \n",
    "\n",
    "                        preview=li.text.strip().split('조회수')\n",
    "                        if preview[0].find(self.phone1_searchkeyword)!= -1:\n",
    "                            #print(preview[0])     \n",
    "\n",
    "                            sum+=int(preview[1].replace(',',''))\n",
    "                           # print(preview[1].replace(',',''))\n",
    "                           # print('TOP NEWS 조회수의 합:',sum)\n",
    "                    i+=1\n",
    "                self.phone1_release_date+=1\n",
    "                aa+=1\n",
    "                data.loc[str(aa),self.phone1_name]=sum\n",
    "\n",
    "\n",
    "        \n",
    "        i=0\n",
    "\n",
    "        aa=0\n",
    "        while (self.phone2_release_date <= dateafter2) :\n",
    "\n",
    "                link = 'https://m.news.naver.com/rankingList.nhn?sid1=105&date='\n",
    "                s2=link+str(self.phone2_release_date)\n",
    "                html=urlopen(s2)\n",
    "                soup=BeautifulSoup(html,\"html.parser\")\n",
    "                ul=soup.find(\"ul\",{\"class\":\"commonlist\"})\n",
    "                lists=ul.findAll(\"li\")\n",
    "                i=0\n",
    "              \n",
    "                sum=0\n",
    "\n",
    "                while i<=30:\n",
    "                    link=soup.select(\"#ct > div.ranking_news > ul > li:nth-child(\"+str(i)+\") > a\")\n",
    "\n",
    "                    for li in link:              \n",
    "\n",
    "                        preview=li.text.strip().split('조회수')\n",
    "                        if preview[0].find(self.phone2_searchkeyword)!= -1:\n",
    "                          #  print(preview[0])\n",
    "\n",
    "                            sum+=int(preview[1].replace(',',''))\n",
    "                           # print(preview[1].replace(',',''))\n",
    "                          #  print('TOP NEWS 조회수의 합:',sum)\n",
    "                    i+=1\n",
    "                self.phone2_release_date+=1\n",
    "                aa+=1\n",
    "                data.loc[str(aa),self.phone2_name]=sum\n",
    "\n",
    "        print(data)\n",
    "        print(data.plot.line())\n",
    "\n",
    "         #아이폰XS 발표일,갤럭시s10 발표일(한국시간),핸드폰1 이름, 핸드폰2 이름, 핸드폰1 검색 키워드, 핸드폰2 검색 키워드\n",
    "iPhone_XS_VS_Galaxy_S10=Research(20180912,20190220,'iPhone_XS','Galaxy_S10','아이폰','갤럭시')\n",
    "iPhone_XS_VS_Galaxy_S10.visualization()"
   ]
  }
 ],
 "metadata": {
  "kernelspec": {
   "display_name": "Python 3",
   "language": "python",
   "name": "python3"
  },
  "language_info": {
   "codemirror_mode": {
    "name": "ipython",
    "version": 3
   },
   "file_extension": ".py",
   "mimetype": "text/x-python",
   "name": "python",
   "nbconvert_exporter": "python",
   "pygments_lexer": "ipython3",
   "version": "3.8.1"
  }
 },
 "nbformat": 4,
 "nbformat_minor": 4
}
